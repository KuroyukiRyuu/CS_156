{
 "cells": [
  {
   "cell_type": "markdown",
   "metadata": {},
   "source": [
    "# <b>CS156 (Introduction to AI), Spring 2022</b>\n",
    "# <u><b>Homework 2 submission</b></u>"
   ]
  },
  {
   "cell_type": "markdown",
   "metadata": {},
   "source": [
    "### Roster Name: Benjamin Wu\n",
    "### Student ID: 01367880\n",
    "### Email address: benjamin.wu01@sjsu.edu"
   ]
  },
  {
   "cell_type": "markdown",
   "metadata": {},
   "source": [
    "##  <u>References and sources </u>"
   ]
  },
  {
   "cell_type": "markdown",
   "metadata": {},
   "source": [
    "https://www.delftstack.com/howto/python-pandas/\n",
    "\n",
    "https://www.delftstack.com/howto/python/python-counter-most-common/#:~:text=Ways%20to%20Find%20the%20Most%20Common%20Elements%20of,Most%20Common%20Elements%20of%20a%20List%20in%20Python"
   ]
  },
  {
   "cell_type": "markdown",
   "metadata": {},
   "source": [
    "##  <u>Solution</u>"
   ]
  },
  {
   "cell_type": "markdown",
   "metadata": {},
   "source": [
    "#### Load libraries and set random number generator seed"
   ]
  },
  {
   "cell_type": "code",
   "execution_count": 339,
   "metadata": {},
   "outputs": [],
   "source": [
    "import numpy as np\n",
    "import pandas as pd\n",
    "from scipy.spatial.distance import euclidean\n",
    "from sklearn.model_selection import train_test_split\n",
    "import matplotlib.pyplot as plt\n",
    "from collections import Counter\n",
    "import math"
   ]
  },
  {
   "cell_type": "code",
   "execution_count": 340,
   "metadata": {},
   "outputs": [],
   "source": [
    "np.random.seed(42)"
   ]
  },
  {
   "cell_type": "markdown",
   "metadata": {},
   "source": [
    "\n",
    "#### Code the solution"
   ]
  },
  {
   "cell_type": "code",
   "execution_count": 341,
   "metadata": {},
   "outputs": [],
   "source": [
    "n = 100\n",
    "\n",
    "Y = np.random.randn(n)\n",
    "X1 = np.random.normal(loc=-2.0, scale=2.0, size=int(n/2))\n",
    "X2 = np.random.normal(loc=2.0, scale=2.0, size=int(n/2))\n",
    "X = np.concatenate((X1, X2), axis=0)\n",
    "\n",
    "l1 = [0]*int(n/2)\n",
    "l2 = [1]*int(n/2)\n",
    "labels = l1+l2\n",
    "dt = pd.DataFrame({'X':X, 'Y':Y, \"Label\": labels}, columns=['X', 'Y', \"Label\"])\n",
    "X_train, X_test, Y_train, Y_test = train_test_split(dt,labels, test_size=0.2, random_state=0)"
   ]
  },
  {
   "cell_type": "code",
   "execution_count": 342,
   "metadata": {},
   "outputs": [],
   "source": [
    "def knn(newObservation, referenceData, k = 3):\n",
    "    observations = []\n",
    "    neighbors = []\n",
    "    for i in range(len(referenceData)):\n",
    "        observed = np.resize(newObservation.to_numpy(), (len(newObservation.to_numpy()) - 1)) # Resizes numpy array to remove label\n",
    "        reference = np.resize(referenceData.iloc[i].to_numpy(), (len(referenceData.iloc[i].to_numpy()) - 1)) # Resizes numpy array to remove label\n",
    "        observations.append((referenceData.iloc[i].name, euclidean(observed, reference)))\n",
    "    observations.sort(key = lambda a: a[1]) # Sorts based on distance\n",
    "    for i in range(k):\n",
    "        neighbors.append(referenceData.loc[observations[i][0]][\"Label\"]) # Adds k closest neighbors' labels\n",
    "    classification = Counter(neighbors)\n",
    "    return(math.trunc(classification.most_common(1)[0][0])) # Returns the most common label"
   ]
  },
  {
   "cell_type": "code",
   "execution_count": 343,
   "metadata": {},
   "outputs": [],
   "source": [
    "predictedOutput = []\n",
    "for i in range(len(X_test)):\n",
    "    predictedOutput.append(knn(X_test.iloc[i,:], X_train, k = 3))"
   ]
  },
  {
   "cell_type": "code",
   "execution_count": 344,
   "metadata": {},
   "outputs": [
    {
     "name": "stdout",
     "output_type": "stream",
     "text": [
      "Accuracy of the predictions on the test dataset is 90.0\n"
     ]
    },
    {
     "data": {
      "image/png": "[encoded data removed]",
      "text/plain": [
       "<Figure size 432x288 with 2 Axes>"
      ]
     },
     "metadata": {
      "needs_background": "light"
     },
     "output_type": "display_data"
    }
   ],
   "source": [
    "count = 0\n",
    "for i in range(len(Y_test)):\n",
    "    if(Y_test[i] != predictedOutput[i]):\n",
    "        count += 1\n",
    "print(\"Accuracy of the predictions on the test dataset is \" + str((len(predictedOutput) - count) / len(predictedOutput) * 100))\n",
    "\n",
    "plt.subplot(1, 2, 1)\n",
    "plt.scatter(X_train.iloc[:,0],X_train.iloc[:,1], s=25, c=Y_train, marker=\".\")\n",
    "plt.scatter(X_test.iloc[:,0],X_test.iloc[:,1], s=50, c=Y_test, marker=\"v\")\n",
    "plt.title(\"Actual labels\")\n",
    "\n",
    "plt.subplot(1, 2, 2)\n",
    "plt.scatter(X_train.iloc[:,0],X_train.iloc[:,1], s=25, c=Y_train, marker=\".\")\n",
    "plt.scatter(X_test.iloc[:,0],X_test.iloc[:,1], s=50, c=predictedOutput, marker=\"v\")\n",
    "plt.title(\"Predicted labels\")\n",
    "\n",
    "plt.tight_layout()\n",
    "plt.show()"
   ]
  },
  {
   "cell_type": "code",
   "execution_count": 345,
   "metadata": {},
   "outputs": [],
   "source": [
    "n = 1000\n",
    "\n",
    "X1 = np.random.normal(loc = 0, scale = 3, size=int(n/4))\n",
    "Y1 = np.random.normal(loc = -3, scale = 1, size=int(n/4))\n",
    "Z1 = np.random.normal(loc = -1, scale = 1, size=int(n/4))\n",
    "\n",
    "X2 = np.random.normal(loc = 0, scale = 3, size=int(n/4))\n",
    "Y2 = np.random.normal(loc = 1, scale = 2, size=int(n/4))\n",
    "Z2 = np.random.normal(loc = 1, scale = 1, size=int(n/4))\n",
    "\n",
    "X3 = np.random.normal(loc = 0, scale = 3, size=int(n/4))\n",
    "Y3 = np.random.normal(loc = 3, scale = 1, size=int(n/4))\n",
    "Z3 = np.random.normal(loc = 4, scale = 1, size=int(n/4))\n",
    "\n",
    "X4 = np.random.normal(loc = 0, scale = 3, size=int(n/4))\n",
    "Y4 = np.random.normal(loc = 5, scale = 3, size=int(n/4))\n",
    "Z4 = np.random.normal(loc = -3, scale = 1, size=int(n/4))\n",
    "\n",
    "X = np.concatenate((X1, X2, X3, X4), axis=0)\n",
    "Y = np.concatenate((Y1, Y2, Y3, Y4), axis=0)\n",
    "Z = np.concatenate((Z1, Z2, Z3, Z4), axis=0)\n",
    "\n",
    "labels = ([0] * int(n/4) + [1] * int(n/4) + [2] * int(n/4) + [3] * int(n/4))\n",
    "\n",
    "dt = pd.DataFrame({'X':X, 'Y':Y, 'Z':Z, \"Label\": labels}, columns=['X', 'Y', 'Z', \"Label\"])\n",
    "X_train, X_test, Y_train, Y_test = train_test_split(dt,labels, test_size=0.2, random_state=0)"
   ]
  },
  {
   "cell_type": "code",
   "execution_count": 346,
   "metadata": {},
   "outputs": [],
   "source": [
    "predictedOutput = []\n",
    "for i in range(len(X_test)):\n",
    "    predictedOutput.append(knn(X_test.iloc[i,:], dt, k = 3))"
   ]
  },
  {
   "cell_type": "code",
   "execution_count": 347,
   "metadata": {},
   "outputs": [
    {
     "name": "stdout",
     "output_type": "stream",
     "text": [
      "Accuracy of the predictions on the test dataset is 98.0\n"
     ]
    }
   ],
   "source": [
    "count = 0\n",
    "\n",
    "for i in range(len(Y_test)):\n",
    "    if(Y_test[i] != predictedOutput[i]):\n",
    "        count += 1\n",
    "\n",
    "print(\"Accuracy of the predictions on the test dataset is \" + str((len(predictedOutput) - count) / len(predictedOutput) * 100))"
   ]
  }
 ],
 "metadata": {
  "kernelspec": {
   "display_name": "Python 3 (ipykernel)",
   "language": "python",
   "name": "python3"
  },
  "language_info": {
   "codemirror_mode": {
    "name": "ipython",
    "version": 3
   },
   "file_extension": ".py",
   "mimetype": "text/x-python",
   "name": "python",
   "nbconvert_exporter": "python",
   "pygments_lexer": "ipython3",
   "version": "3.10.2"
  }
 },
 "nbformat": 4,
 "nbformat_minor": 4
}
